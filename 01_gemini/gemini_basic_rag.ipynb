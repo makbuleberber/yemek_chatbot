{
 "cells": [
  {
   "cell_type": "markdown",
   "id": "1a5fe8c7",
   "metadata": {},
   "source": [
    ".csv uzantılı dosyanın yüklemesinin gerçekleştirilmesi"
   ]
  },
  {
   "cell_type": "code",
   "execution_count": 26,
   "id": "ec4dc3a3",
   "metadata": {},
   "outputs": [],
   "source": [
    "from langchain_community.document_loaders.csv_loader import CSVLoader\n",
    "\n",
    "\n",
    "loader = CSVLoader(file_path='yemek_chatbot_veriseti.csv')\n",
    "data = loader.load()"
   ]
  },
  {
   "cell_type": "code",
   "execution_count": 27,
   "id": "67dd7018",
   "metadata": {},
   "outputs": [
    {
     "data": {
      "text/plain": [
       "1350"
      ]
     },
     "execution_count": 27,
     "metadata": {},
     "output_type": "execute_result"
    }
   ],
   "source": [
    "len(data)"
   ]
  },
  {
   "cell_type": "markdown",
   "id": "053c0e90",
   "metadata": {},
   "source": [
    "Veriyi parçalara ayırma (Chunking)"
   ]
  },
  {
   "cell_type": "code",
   "execution_count": 28,
   "id": "e7490c70",
   "metadata": {},
   "outputs": [
    {
     "name": "stdout",
     "output_type": "stream",
     "text": [
      "Total 1350\n"
     ]
    }
   ],
   "source": [
    "from langchain_text_splitters import RecursiveCharacterTextSplitter\n",
    "\n",
    "text_splitter = RecursiveCharacterTextSplitter(chunk_size=1000)\n",
    "docs = text_splitter.split_documents(data)\n",
    "\n",
    "print(\"Total\",len(docs))"
   ]
  },
  {
   "cell_type": "code",
   "execution_count": 29,
   "id": "eb044aa7",
   "metadata": {},
   "outputs": [
    {
     "data": {
      "text/plain": [
       "Document(metadata={'source': 'yemek_chatbot_veriseti.csv', 'row': 7}, page_content='text: Günaydın\\nintent: selamlama')"
      ]
     },
     "execution_count": 29,
     "metadata": {},
     "output_type": "execute_result"
    }
   ],
   "source": [
    "docs [7]"
   ]
  },
  {
   "cell_type": "markdown",
   "id": "dca9908a-3b15-483a-be7b-211428095ea7",
   "metadata": {},
   "source": [
    "Google Generative AI Embeddings'i kullanarak Embedding oluşturma kısmı\n",
    "- Text veriyi sayısal veriye çevirme"
   ]
  },
  {
   "cell_type": "code",
   "execution_count": 30,
   "id": "64aff79a",
   "metadata": {},
   "outputs": [
    {
     "data": {
      "text/plain": [
       "[0.04625185579061508,\n",
       " -0.04018166661262512,\n",
       " -0.026706203818321228,\n",
       " -0.03015909716486931,\n",
       " 0.014996296726167202]"
      ]
     },
     "execution_count": 30,
     "metadata": {},
     "output_type": "execute_result"
    }
   ],
   "source": [
    "from langchain_chroma import Chroma\n",
    "from langchain_google_genai import GoogleGenerativeAIEmbeddings\n",
    "from dotenv import load_dotenv\n",
    "\n",
    "load_dotenv()\n",
    "\n",
    "embeddings = GoogleGenerativeAIEmbeddings(model=\"models/embedding-001\")\n",
    "vector = embeddings.embed_query(\"hello world!\")\n",
    "vector[:5]"
   ]
  },
  {
   "cell_type": "code",
   "execution_count": 31,
   "id": "17a2ff17-7ab3-452c-817e-3e26662ef820",
   "metadata": {},
   "outputs": [],
   "source": [
    "vectorstore = Chroma.from_documents(documents=docs, embedding=embeddings)"
   ]
  },
  {
   "cell_type": "code",
   "execution_count": 32,
   "id": "95b98829-43af-4788-b86b-87b45be0e21e",
   "metadata": {},
   "outputs": [],
   "source": [
    "retriever = vectorstore.as_retriever(\n",
    "    search_type=\"similarity\", search_kwargs={\"k\": 7}\n",
    ")"
   ]
  },
  {
   "cell_type": "code",
   "execution_count": 33,
   "id": "77abce11",
   "metadata": {},
   "outputs": [],
   "source": [
    "retieved_docs = retriever.invoke(\"diyet önerisi?\")"
   ]
  },
  {
   "cell_type": "code",
   "execution_count": 34,
   "id": "81332597",
   "metadata": {},
   "outputs": [
    {
     "data": {
      "text/plain": [
       "7"
      ]
     },
     "execution_count": 34,
     "metadata": {},
     "output_type": "execute_result"
    }
   ],
   "source": [
    "len(retieved_docs)"
   ]
  },
  {
   "cell_type": "code",
   "execution_count": 35,
   "id": "ede07d51",
   "metadata": {},
   "outputs": [
    {
     "name": "stdout",
     "output_type": "stream",
     "text": [
      "text: Sağlıklı diyet menüsü verir misin?\n",
      "intent: diyet_onerisi\n"
     ]
    }
   ],
   "source": [
    "print(retieved_docs[5].page_content)"
   ]
  },
  {
   "cell_type": "code",
   "execution_count": 36,
   "id": "d83ecfda",
   "metadata": {},
   "outputs": [],
   "source": [
    "from langchain_google_genai import ChatGoogleGenerativeAI\n",
    "\n",
    "llm = ChatGoogleGenerativeAI(\n",
    "    model=\"gemini-2.0-flash\",\n",
    "    temperature=0.3,\n",
    "    max_tokens=500\n",
    ")"
   ]
  },
  {
   "cell_type": "code",
   "execution_count": 37,
   "id": "a1ff6177",
   "metadata": {},
   "outputs": [],
   "source": [
    "from langchain_core.prompts import ChatPromptTemplate\n",
    "from langchain.chains.combine_documents import create_stuff_documents_chain\n",
    "from langchain.chains import create_retrieval_chain"
   ]
  },
  {
   "cell_type": "code",
   "execution_count": 63,
   "id": "be526bb4",
   "metadata": {},
   "outputs": [],
   "source": [
    "system_prompt = (\n",
    "    \"You are a helpful assistant specialized in meal recommendations.\"\n",
    "    \"Use the provided context to answer user questions about recipes and meals.\"\n",
    "    \"Keep your answers friendly and give detailed sentences.\"\n",
    "    \"\\n\\n\"\n",
    "    \"{context}\"\n",
    ")"
   ]
  },
  {
   "cell_type": "code",
   "execution_count": 64,
   "id": "08ab14f9",
   "metadata": {},
   "outputs": [],
   "source": [
    "prompt = ChatPromptTemplate.from_messages(\n",
    "    [\n",
    "        (\"system\",system_prompt),\n",
    "        (\"human\",\"{input}\")\n",
    "    ]\n",
    ")"
   ]
  },
  {
   "cell_type": "code",
   "execution_count": 65,
   "id": "00cfcaa2",
   "metadata": {},
   "outputs": [],
   "source": [
    "question_answer_chain = create_stuff_documents_chain(llm,prompt)"
   ]
  },
  {
   "cell_type": "code",
   "execution_count": 66,
   "id": "364aab9e",
   "metadata": {},
   "outputs": [],
   "source": [
    "rag_chain = create_retrieval_chain(retriever,question_answer_chain)"
   ]
  },
  {
   "cell_type": "code",
   "execution_count": 67,
   "id": "39f13ce2",
   "metadata": {},
   "outputs": [],
   "source": [
    "response = rag_chain.invoke({\"input\":\"tatlı önerisi?\"})"
   ]
  },
  {
   "cell_type": "code",
   "execution_count": 68,
   "id": "f45aec58",
   "metadata": {},
   "outputs": [
    {
     "name": "stdout",
     "output_type": "stream",
     "text": [
      "{'input': 'tatlı önerisi?', 'context': [Document(id='775bd154-1289-4438-95b1-f6d530796cb1', metadata={'row': 642, 'source': 'yemek_chatbot_veriseti.csv'}, page_content='text: Sağlıklı tatlı önerileri olur mu?\\nintent: tatli'), Document(id='9632275b-e5cf-4322-9092-15f3ff4abd3e', metadata={'row': 642, 'source': 'yemek_chatbot_veriseti.csv'}, page_content='text: Sağlıklı tatlı önerileri olur mu?\\nintent: tatli'), Document(id='d6f1e02e-9ada-4857-85b1-a11463120d40', metadata={'row': 680, 'source': 'yemek_chatbot_veriseti.csv'}, page_content='text: Çikolatalı tatlı nasıl yapılır? lütfen\\nintent: tatli'), Document(id='f8931764-3154-44c0-8d46-83aecf9f7d0b', metadata={'row': 639, 'source': 'yemek_chatbot_veriseti.csv'}, page_content='text: Çikolatalı tatlı nasıl yapılır? lütfen\\nintent: tatli'), Document(id='3a4c006e-bfd6-4d6d-b439-871e6f38190c', metadata={'row': 680, 'source': 'yemek_chatbot_veriseti.csv'}, page_content='text: Çikolatalı tatlı nasıl yapılır? lütfen\\nintent: tatli'), Document(id='8eb93a38-e0bc-40bd-a371-5f3a926d9035', metadata={'row': 610, 'source': 'yemek_chatbot_veriseti.csv'}, page_content='text: Çikolatalı tatlı nasıl yapılır? lütfen\\nintent: tatli'), Document(id='b964b215-427f-4769-8a45-4ddd9620b432', metadata={'row': 639, 'source': 'yemek_chatbot_veriseti.csv'}, page_content='text: Çikolatalı tatlı nasıl yapılır? lütfen\\nintent: tatli')], 'answer': 'Elbette, size sağlıklı tatlılar önerebilirim ve çikolatalı tatlıların nasıl yapıldığı hakkında bilgi verebilirim.'}\n"
     ]
    }
   ],
   "source": [
    "print(response)"
   ]
  },
  {
   "cell_type": "code",
   "execution_count": 69,
   "id": "c147ba83",
   "metadata": {},
   "outputs": [
    {
     "name": "stdout",
     "output_type": "stream",
     "text": [
      "Elbette, size sağlıklı tatlılar önerebilirim ve çikolatalı tatlıların nasıl yapıldığı hakkında bilgi verebilirim.\n"
     ]
    }
   ],
   "source": [
    "print(response[\"answer\"])"
   ]
  }
 ],
 "metadata": {
  "kernelspec": {
   "display_name": "yemekbot",
   "language": "python",
   "name": "python3"
  },
  "language_info": {
   "codemirror_mode": {
    "name": "ipython",
    "version": 3
   },
   "file_extension": ".py",
   "mimetype": "text/x-python",
   "name": "python",
   "nbconvert_exporter": "python",
   "pygments_lexer": "ipython3",
   "version": "3.10.16"
  }
 },
 "nbformat": 4,
 "nbformat_minor": 5
}
