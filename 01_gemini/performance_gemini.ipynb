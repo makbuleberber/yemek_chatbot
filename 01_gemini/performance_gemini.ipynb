{
 "cells": [
  {
   "cell_type": "code",
   "execution_count": 2,
   "id": "2649af32",
   "metadata": {},
   "outputs": [],
   "source": [
    "import pandas as pd\n",
    "from sklearn.metrics import classification_report, confusion_matrix\n",
    "import google.generativeai as genai\n",
    "import time"
   ]
  },
  {
   "cell_type": "code",
   "execution_count": 3,
   "id": "9de6b979",
   "metadata": {},
   "outputs": [],
   "source": [
    "import os\n",
    "from dotenv import load_dotenv\n",
    "load_dotenv()\n",
    "\n",
    "genai.configure(api_key=os.getenv(\"GOOGLE_API_KEY\"))\n",
    "model = genai.GenerativeModel(\"gemini-2.0-flash\")"
   ]
  },
  {
   "cell_type": "code",
   "execution_count": null,
   "id": "eb6cd597",
   "metadata": {},
   "outputs": [],
   "source": [
    "test_df = pd.read_csv(\"test_dataset.csv\")"
   ]
  },
  {
   "cell_type": "code",
   "execution_count": 5,
   "id": "5df081d8",
   "metadata": {},
   "outputs": [],
   "source": [
    "def predict_intent(text):\n",
    "    prompt = f\"\"\"\n",
    "Aşağıdaki cümleyi incele ve en uygun intent etiketini sadece tek kelime olarak ver:\n",
    "-selamlama\n",
    "-veda\n",
    "-ana_ogun\n",
    "-ara_ogun\n",
    "-tatli\n",
    "-kahvalti\n",
    "-malzeme_sorgu\n",
    "-diyet_onerisi\n",
    "-konu_disi\n",
    "\n",
    "Cümle: \"{text}\"\n",
    "Intent:\n",
    "\"\"\"\n",
    "    try:\n",
    "        response = model.generate_content(prompt)\n",
    "        return response.text.strip().lower()\n",
    "    except Exception as e:\n",
    "        print(\"Hata:\", e)\n",
    "        return \"bilinmiyor\""
   ]
  },
  {
   "cell_type": "code",
   "execution_count": 6,
   "id": "5105fd67",
   "metadata": {},
   "outputs": [
    {
     "name": "stdout",
     "output_type": "stream",
     "text": [
      "Gemini Classification Report:\n",
      "               precision    recall  f1-score   support\n",
      "\n",
      "     ana_ogun       1.00      0.97      0.98        30\n",
      "     ara_ogun       0.97      1.00      0.98        30\n",
      "diyet_onerisi       1.00      0.97      0.98        30\n",
      "     kahvalti       0.97      1.00      0.98        30\n",
      "    konu_disi       1.00      0.90      0.95        30\n",
      "malzeme_sorgu       1.00      1.00      1.00        30\n",
      "    selamlama       0.86      1.00      0.92        30\n",
      "        tatli       1.00      1.00      1.00        30\n",
      "         veda       1.00      0.93      0.97        30\n",
      "\n",
      "     accuracy                           0.97       270\n",
      "    macro avg       0.98      0.97      0.97       270\n",
      " weighted avg       0.98      0.97      0.97       270\n",
      "\n",
      "Gemini Confusion Matrix:\n",
      "[[29  0  0  1  0  0  0  0  0]\n",
      " [ 0 30  0  0  0  0  0  0  0]\n",
      " [ 0  1 29  0  0  0  0  0  0]\n",
      " [ 0  0  0 30  0  0  0  0  0]\n",
      " [ 0  0  0  0 27  0  3  0  0]\n",
      " [ 0  0  0  0  0 30  0  0  0]\n",
      " [ 0  0  0  0  0  0 30  0  0]\n",
      " [ 0  0  0  0  0  0  0 30  0]\n",
      " [ 0  0  0  0  0  0  2  0 28]]\n"
     ]
    }
   ],
   "source": [
    "# Gerçek ve tahmin edilen etiketleri karşılaştırma\n",
    "y_true = test_df[\"intent\"].tolist()\n",
    "y_pred = []\n",
    "\n",
    "for i, row in test_df.iterrows():\n",
    "    intent = predict_intent(row[\"text\"])\n",
    "    y_pred.append(intent)\n",
    "    time.sleep(6)  # Gemini hız limiti için bekleme\n",
    "\n",
    "# Performans metriklerini yazdır\n",
    "print(\"Gemini Classification Report:\")\n",
    "print(classification_report(y_true, y_pred))\n",
    "\n",
    "print(\"Gemini Confusion Matrix:\")\n",
    "print(confusion_matrix(y_true, y_pred))"
   ]
  }
 ],
 "metadata": {
  "kernelspec": {
   "display_name": "yemekbot",
   "language": "python",
   "name": "python3"
  },
  "language_info": {
   "codemirror_mode": {
    "name": "ipython",
    "version": 3
   },
   "file_extension": ".py",
   "mimetype": "text/x-python",
   "name": "python",
   "nbconvert_exporter": "python",
   "pygments_lexer": "ipython3",
   "version": "3.10.16"
  }
 },
 "nbformat": 4,
 "nbformat_minor": 5
}
