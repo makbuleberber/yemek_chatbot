{
 "cells": [
  {
   "cell_type": "markdown",
   "id": "1a5fe8c7",
   "metadata": {},
   "source": [
    ".csv uzantılı dosyanın yüklemesinin gerçekleştirilmesi"
   ]
  },
  {
   "cell_type": "code",
   "execution_count": null,
   "id": "ec4dc3a3",
   "metadata": {},
   "outputs": [],
   "source": [
    "from langchain_community.document_loaders.csv_loader import CSVLoader\n",
    "\n",
    "\n",
    "loader = CSVLoader(file_path='data/yemek_chatbot_veriseti.csv')\n",
    "data = loader.load()"
   ]
  },
  {
   "cell_type": "code",
   "execution_count": 129,
   "id": "67dd7018",
   "metadata": {},
   "outputs": [
    {
     "data": {
      "text/plain": [
       "1350"
      ]
     },
     "execution_count": 129,
     "metadata": {},
     "output_type": "execute_result"
    }
   ],
   "source": [
    "len(data)"
   ]
  },
  {
   "cell_type": "markdown",
   "id": "053c0e90",
   "metadata": {},
   "source": [
    "Veriyi parçalara ayırma (Chunking)"
   ]
  },
  {
   "cell_type": "code",
   "execution_count": 130,
   "id": "e7490c70",
   "metadata": {},
   "outputs": [
    {
     "name": "stdout",
     "output_type": "stream",
     "text": [
      "Total 1350\n"
     ]
    }
   ],
   "source": [
    "from langchain_text_splitters import RecursiveCharacterTextSplitter\n",
    "\n",
    "text_splitter = RecursiveCharacterTextSplitter(chunk_size=1000)\n",
    "docs = text_splitter.split_documents(data)\n",
    "\n",
    "print(\"Total\",len(docs))"
   ]
  },
  {
   "cell_type": "code",
   "execution_count": 131,
   "id": "eb044aa7",
   "metadata": {},
   "outputs": [
    {
     "data": {
      "text/plain": [
       "Document(metadata={'source': 'yemek_chatbot_veriseti.csv', 'row': 7}, page_content='text: Günaydın\\nintent: selamlama')"
      ]
     },
     "execution_count": 131,
     "metadata": {},
     "output_type": "execute_result"
    }
   ],
   "source": [
    "docs [7]"
   ]
  },
  {
   "cell_type": "markdown",
   "id": "dca9908a-3b15-483a-be7b-211428095ea7",
   "metadata": {},
   "source": [
    "OpenAI Generative AI Embeddings'i kullanarak Embedding oluşturma kısmı\n",
    "- Text veriyi sayısal veriye çevirme"
   ]
  },
  {
   "cell_type": "code",
   "execution_count": 132,
   "id": "64aff79a",
   "metadata": {},
   "outputs": [],
   "source": [
    "import streamlit as st\n",
    "from langchain_community.document_loaders import CSVLoader\n",
    "from langchain.text_splitter import RecursiveCharacterTextSplitter\n",
    "from langchain.vectorstores import Chroma\n",
    "from langchain.embeddings import OpenAIEmbeddings\n",
    "from langchain_openai import ChatOpenAI\n",
    "from langchain.chains import create_retrieval_chain\n",
    "from langchain.prompts import ChatPromptTemplate\n",
    "from langchain.chains.combine_documents import create_stuff_documents_chain"
   ]
  },
  {
   "cell_type": "code",
   "execution_count": 133,
   "id": "72d12360",
   "metadata": {},
   "outputs": [
    {
     "data": {
      "text/plain": [
       "True"
      ]
     },
     "execution_count": 133,
     "metadata": {},
     "output_type": "execute_result"
    }
   ],
   "source": [
    "from dotenv import load_dotenv\n",
    "load_dotenv()"
   ]
  },
  {
   "cell_type": "code",
   "execution_count": 134,
   "id": "31e78195",
   "metadata": {},
   "outputs": [],
   "source": [
    "embeddings = OpenAIEmbeddings(model=\"text-embedding-3-large\")"
   ]
  },
  {
   "cell_type": "code",
   "execution_count": 135,
   "id": "7921fb44",
   "metadata": {},
   "outputs": [],
   "source": [
    "from langchain.schema import Document"
   ]
  },
  {
   "cell_type": "code",
   "execution_count": 136,
   "id": "dffb5862",
   "metadata": {},
   "outputs": [],
   "source": [
    "unique_docs = list(set([doc.page_content for doc in docs]))\n",
    "docs = [Document(page_content=content) for content in unique_docs]"
   ]
  },
  {
   "cell_type": "code",
   "execution_count": 137,
   "id": "b1f23d87",
   "metadata": {},
   "outputs": [],
   "source": [
    "vectorstore = Chroma.from_documents(\n",
    "    documents=docs,\n",
    "    embedding=embeddings,\n",
    "    persist_directory=\"./chroma_db\"\n",
    ")"
   ]
  },
  {
   "cell_type": "code",
   "execution_count": 138,
   "id": "95b98829-43af-4788-b86b-87b45be0e21e",
   "metadata": {},
   "outputs": [],
   "source": [
    "retriever = vectorstore.as_retriever(\n",
    "    search_type=\"similarity\", search_kwargs={\"k\": 5}\n",
    ")"
   ]
  },
  {
   "cell_type": "code",
   "execution_count": 139,
   "id": "77abce11",
   "metadata": {},
   "outputs": [],
   "source": [
    "retieved_docs = retriever.invoke(\"tatlı önerisi\")"
   ]
  },
  {
   "cell_type": "code",
   "execution_count": 140,
   "id": "81332597",
   "metadata": {},
   "outputs": [
    {
     "data": {
      "text/plain": [
       "5"
      ]
     },
     "execution_count": 140,
     "metadata": {},
     "output_type": "execute_result"
    }
   ],
   "source": [
    "len(retieved_docs)"
   ]
  },
  {
   "cell_type": "code",
   "execution_count": 142,
   "id": "ede07d51",
   "metadata": {},
   "outputs": [
    {
     "name": "stdout",
     "output_type": "stream",
     "text": [
      "text: Sağlıklı tatlı önerileri\n",
      "intent: tatli\n"
     ]
    }
   ],
   "source": [
    "print(retieved_docs[4].page_content)"
   ]
  },
  {
   "cell_type": "code",
   "execution_count": 143,
   "id": "d83ecfda",
   "metadata": {},
   "outputs": [],
   "source": [
    "from langchain_openai import ChatOpenAI\n",
    "\n",
    "llm = ChatOpenAI(\n",
    "    model=\"gpt-4o\",\n",
    "    temperature=0.3,\n",
    "    max_tokens=500\n",
    ")"
   ]
  },
  {
   "cell_type": "code",
   "execution_count": 144,
   "id": "be526bb4",
   "metadata": {},
   "outputs": [],
   "source": [
    "system_prompt = (\n",
    "    \"Sen, yemek önerileri veren cana yakın bir asistansın. \"\n",
    "    \"Görevin, kısa ama etkileyici cüevaplar bulup samimi bir dille cevaplamak \"\n",
    "    \"Sadece yemekler üzerine konuş başka bir konu hakkında konuşma\"\n",
    "    \"Yanıtların Türkçe olsun 🇹🇷 ve açıklamalarını emojilerle zenginleştir 📌\"\n",
    "    \"\\n\\n\"\n",
    "    \"{context}\"\n",
    ")"
   ]
  },
  {
   "cell_type": "code",
   "execution_count": 145,
   "id": "08ab14f9",
   "metadata": {},
   "outputs": [],
   "source": [
    "prompt = ChatPromptTemplate.from_messages(\n",
    "    [\n",
    "        (\"system\",system_prompt),\n",
    "        (\"human\",\"{input}\")\n",
    "    ]\n",
    ")"
   ]
  },
  {
   "cell_type": "code",
   "execution_count": 146,
   "id": "00cfcaa2",
   "metadata": {},
   "outputs": [],
   "source": [
    "question_answer_chain = create_stuff_documents_chain(llm,prompt)"
   ]
  },
  {
   "cell_type": "code",
   "execution_count": 147,
   "id": "364aab9e",
   "metadata": {},
   "outputs": [],
   "source": [
    "rag_chain = create_retrieval_chain(retriever,question_answer_chain)"
   ]
  },
  {
   "cell_type": "code",
   "execution_count": 125,
   "id": "39f13ce2",
   "metadata": {},
   "outputs": [],
   "source": [
    "response = rag_chain.invoke({\"input\":\"tatlı önerisi\"})"
   ]
  },
  {
   "cell_type": "code",
   "execution_count": 148,
   "id": "f45aec58",
   "metadata": {},
   "outputs": [
    {
     "name": "stdout",
     "output_type": "stream",
     "text": [
      "{'input': 'tatlı önerisi', 'context': [Document(metadata={'row': 644, 'source': 'yemek_chatbot_veriseti.csv'}, page_content='text: Sağlıklı tatlı önerileri\\nintent: tatli'), Document(metadata={'row': 719, 'source': 'yemek_chatbot_veriseti.csv'}, page_content='text: Sağlıklı tatlı önerileri\\nintent: tatli'), Document(metadata={}, page_content='text: Sağlıklı tatlı önerileri\\nintent: tatli'), Document(metadata={'row': 748, 'source': 'yemek_chatbot_veriseti.csv'}, page_content='text: Sağlıklı tatlı önerileri\\nintent: tatli'), Document(metadata={}, page_content='text: Sağlıklı tatlı önerileri\\nintent: tatli'), Document(metadata={'row': 601, 'source': 'yemek_chatbot_veriseti.csv'}, page_content='text: Sağlıklı tatlı önerileri\\nintent: tatli'), Document(metadata={'row': 601, 'source': 'yemek_chatbot_veriseti.csv'}, page_content='text: Sağlıklı tatlı önerileri\\nintent: tatli'), Document(metadata={'row': 654, 'source': 'yemek_chatbot_veriseti.csv'}, page_content='text: Sağlıklı tatlı önerileri\\nintent: tatli'), Document(metadata={'row': 650, 'source': 'yemek_chatbot_veriseti.csv'}, page_content='text: Sağlıklı tatlı önerileri\\nintent: tatli'), Document(metadata={'row': 644, 'source': 'yemek_chatbot_veriseti.csv'}, page_content='text: Sağlıklı tatlı önerileri\\nintent: tatli')], 'answer': 'Tabii! Chia tohumlu puding deneyebilirsin. Süt, chia tohumu ve balı karıştır, buzdolabında beklet. Üzerine taze meyve ekle, işte sağlıklı ve lezzetli bir tatlı! 🍓🥥'}\n"
     ]
    }
   ],
   "source": [
    "print(response)"
   ]
  },
  {
   "cell_type": "code",
   "execution_count": 149,
   "id": "ec55d187",
   "metadata": {},
   "outputs": [
    {
     "name": "stdout",
     "output_type": "stream",
     "text": [
      "Tabii! Chia tohumlu puding deneyebilirsin. Süt, chia tohumu ve balı karıştır, buzdolabında beklet. Üzerine taze meyve ekle, işte sağlıklı ve lezzetli bir tatlı! 🍓🥥\n"
     ]
    }
   ],
   "source": [
    "print(response[\"answer\"])"
   ]
  }
 ],
 "metadata": {
  "kernelspec": {
   "display_name": "yemekbot",
   "language": "python",
   "name": "python3"
  },
  "language_info": {
   "codemirror_mode": {
    "name": "ipython",
    "version": 3
   },
   "file_extension": ".py",
   "mimetype": "text/x-python",
   "name": "python",
   "nbconvert_exporter": "python",
   "pygments_lexer": "ipython3",
   "version": "3.10.16"
  }
 },
 "nbformat": 4,
 "nbformat_minor": 5
}
