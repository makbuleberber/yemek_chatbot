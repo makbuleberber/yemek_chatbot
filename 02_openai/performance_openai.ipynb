{
 "cells": [
  {
   "cell_type": "code",
   "execution_count": 1,
   "id": "2649af32",
   "metadata": {},
   "outputs": [],
   "source": [
    "import pandas as pd\n",
    "from sklearn.metrics import classification_report, confusion_matrix\n",
    "import time\n",
    "import os\n",
    "from dotenv import load_dotenv\n",
    "from langchain_openai import ChatOpenAI"
   ]
  },
  {
   "cell_type": "code",
   "execution_count": 2,
   "id": "e6b509c2",
   "metadata": {},
   "outputs": [
    {
     "data": {
      "text/plain": [
       "True"
      ]
     },
     "execution_count": 2,
     "metadata": {},
     "output_type": "execute_result"
    }
   ],
   "source": [
    "load_dotenv()"
   ]
  },
  {
   "cell_type": "code",
   "execution_count": 3,
   "id": "9de6b979",
   "metadata": {},
   "outputs": [],
   "source": [
    "llm = ChatOpenAI(\n",
    "    model=\"gpt-4o\",\n",
    "    temperature=0,\n",
    "    max_tokens=100,\n",
    "    openai_api_key=os.getenv(\"OPENAI_API_KEY\")\n",
    ")"
   ]
  },
  {
   "cell_type": "code",
   "execution_count": null,
   "id": "eb6cd597",
   "metadata": {},
   "outputs": [],
   "source": [
    "test_df = pd.read_csv(\"data/test_dataset.csv\")"
   ]
  },
  {
   "cell_type": "code",
   "execution_count": 5,
   "id": "5df081d8",
   "metadata": {},
   "outputs": [],
   "source": [
    "def predict_intent(text):\n",
    "    prompt = f\"\"\"\n",
    "Aşağıdaki cümleyi incele ve en uygun intent etiketini sadece tek kelime olarak ver:\n",
    "-selamlama\n",
    "-veda\n",
    "-ana_ogun\n",
    "-ara_ogun\n",
    "-tatli\n",
    "-kahvalti\n",
    "-malzeme_sorgu\n",
    "-diyet_onerisi\n",
    "-konu_disi\n",
    "\n",
    "Cümle: \"{text}\"\n",
    "Intent:\n",
    "\"\"\"\n",
    "    try:\n",
    "        response = llm.invoke(prompt)\n",
    "        return response.content.strip().lower()\n",
    "    except Exception as e:\n",
    "        print(\"Hata:\", e)\n",
    "        return \"bilinmiyor\""
   ]
  },
  {
   "cell_type": "code",
   "execution_count": 6,
   "id": "5105fd67",
   "metadata": {},
   "outputs": [
    {
     "name": "stdout",
     "output_type": "stream",
     "text": [
      "OpenAI Classification Report:\n",
      "               precision    recall  f1-score   support\n",
      "\n",
      "     ana_ogun       1.00      0.97      0.98        30\n",
      "     ara_ogun       0.94      1.00      0.97        30\n",
      "diyet_onerisi       0.96      0.77      0.85        30\n",
      "     kahvalti       0.83      1.00      0.91        30\n",
      "    konu_disi       1.00      0.90      0.95        30\n",
      "malzeme_sorgu       1.00      1.00      1.00        30\n",
      "    selamlama       0.81      1.00      0.90        30\n",
      "        tatli       1.00      0.97      0.98        30\n",
      "         veda       1.00      0.87      0.93        30\n",
      "\n",
      "     accuracy                           0.94       270\n",
      "    macro avg       0.95      0.94      0.94       270\n",
      " weighted avg       0.95      0.94      0.94       270\n",
      "\n",
      "OpenAI Confusion Matrix:\n",
      "[[29  1  0  0  0  0  0  0  0]\n",
      " [ 0 30  0  0  0  0  0  0  0]\n",
      " [ 0  1 23  6  0  0  0  0  0]\n",
      " [ 0  0  0 30  0  0  0  0  0]\n",
      " [ 0  0  0  0 27  0  3  0  0]\n",
      " [ 0  0  0  0  0 30  0  0  0]\n",
      " [ 0  0  0  0  0  0 30  0  0]\n",
      " [ 0  0  1  0  0  0  0 29  0]\n",
      " [ 0  0  0  0  0  0  4  0 26]]\n"
     ]
    }
   ],
   "source": [
    "# Gerçek ve tahmin edilen etiketleri karşılaştır\n",
    "y_true = test_df[\"intent\"].tolist()\n",
    "y_pred = []\n",
    "\n",
    "for i, row in test_df.iterrows():\n",
    "    intent = predict_intent(row[\"text\"])\n",
    "    y_pred.append(intent)\n",
    "    time.sleep(3)  # OpenAI API rate limit için bekleme\n",
    "\n",
    "# Performans metriklerini yazdır\n",
    "print(\"OpenAI Classification Report:\")\n",
    "print(classification_report(y_true, y_pred, zero_division=0))\n",
    "\n",
    "print(\"OpenAI Confusion Matrix:\")\n",
    "print(confusion_matrix(y_true, y_pred))"
   ]
  }
 ],
 "metadata": {
  "kernelspec": {
   "display_name": "yemekbot",
   "language": "python",
   "name": "python3"
  },
  "language_info": {
   "codemirror_mode": {
    "name": "ipython",
    "version": 3
   },
   "file_extension": ".py",
   "mimetype": "text/x-python",
   "name": "python",
   "nbconvert_exporter": "python",
   "pygments_lexer": "ipython3",
   "version": "3.10.16"
  }
 },
 "nbformat": 4,
 "nbformat_minor": 5
}
